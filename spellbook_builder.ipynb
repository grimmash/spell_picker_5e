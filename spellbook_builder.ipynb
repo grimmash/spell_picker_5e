{
 "cells": [
  {
   "cell_type": "code",
   "execution_count": 1,
   "id": "b4558dfd",
   "metadata": {},
   "outputs": [],
   "source": [
    "import pandas as pd"
   ]
  },
  {
   "cell_type": "code",
   "execution_count": 40,
   "id": "be218581",
   "metadata": {},
   "outputs": [
    {
     "name": "stdout",
     "output_type": "stream",
     "text": [
      "['Necromancy' 'Abjuration' 'Conjuration' 'Evocation' 'Transmutation'\n",
      " 'Enchantment' 'Divination' 'Illusion']\n",
      "['Cleric', 'Druid', 'Artificer (Revisited)', 'Unknown', 'Warlock', 'Monk', 'Wizard', 'Ranger', 'Paladin', 'Bard', 'Artificer', 'Sorcerer']\n"
     ]
    }
   ],
   "source": [
    "# Data Load and prep\n",
    "spell_df = pd.read_csv(\"Spells.csv\")\n",
    "spell_df['Classes'].fillna(\"Unknown\", inplace=True)\n",
    "spell_df.head()\n",
    "\n",
    "# Variables\n",
    "\n",
    "# Get schools from input\n",
    "school_list = spell_df['School'].unique()\n",
    "print(school_list)\n",
    "\n",
    "# Get classes from input\n",
    "classes_raw = spell_df['Classes'].unique()\n",
    "\n",
    "# Clean up the classes\n",
    "class_list = []\n",
    "\n",
    "for phrase in classes_raw:\n",
    "    #print(phrase.split(\",\"))\n",
    "\n",
    "    listed_phrase = phrase.split(\",\")\n",
    "    for word in listed_phrase:\n",
    "        word = word.strip()             \n",
    "        #print(word)\n",
    "        class_list.append(word)\n",
    "\n",
    "class_list = list(set(class_list))\n",
    "print(class_list)"
   ]
  },
  {
   "cell_type": "code",
   "execution_count": 41,
   "id": "03a13c01",
   "metadata": {},
   "outputs": [],
   "source": [
    "# functions \n",
    "\n",
    "# map binary flags\n",
    "\n",
    "def class_mapper(class_value, class_lookup_column):\n",
    "    '''\n",
    "    Maps the input classes to columns for binary flag filtering by class\n",
    "    '''\n",
    "    return 1 if class_value in class_lookup_column else 0\n",
    "\n",
    "def spell_list_length_validator(some_list):\n",
    "    new_list = some_list\n",
    "    length_value = len(some_list)\n",
    "    if length_value < 10:\n",
    "        diff = 10 - length_value\n",
    "        for _ in range(diff):\n",
    "            new_list.append(0)\n",
    "            result = new_list\n",
    "    else: result = some_list\n",
    "    return result\n",
    "\n",
    "def spellbook_validator(valid_schools=school_list, valid_classes=class_list, spells_per_level = None):\n",
    "    '''\n",
    "    Validates if your list of schoosl, classes and spell levels is consitent with the input sata and 5e spell levels.\n",
    "    '''\n",
    "    \n",
    "    if spells_per_level is None:\n",
    "        spells_per_level = [0,0,0,0,0,0,0,0,0,0]\n",
    "    if any(x not in school_list for x in valid_schools): \n",
    "        print(\"Please make sure your arcane schools are from the following list:\")\n",
    "        for i in school_list: \n",
    "            print(f\"    {i}\")\n",
    "    elif any(x not in class_list for x in valid_classes): \n",
    "        print(\"Please make sure your classes are from the following list:\")\n",
    "        for i in class_list: \n",
    "            print(f\"    {i}\")\n",
    "    elif(len(spells_per_level) > 10):\n",
    "        print(\"You have more than 10 spell levels enumerated!  Please enter less than 10 levels.\")\n",
    "\n",
    "    else:\n",
    "        _extracted_from_spellbook_validator_18(valid_schools, valid_classes, spells_per_level)  \n",
    "\n",
    "\n",
    "# TODO Rename this here and in `spellbook_validator`\n",
    "def _extracted_from_spellbook_validator_18(valid_schools, valid_classes, spells_per_level):\n",
    "    print(\"Schools chosen: \")\n",
    "    for i in valid_schools:\n",
    "        print(f\"    {i}\")\n",
    "    print(\"Classes chosen: \")\n",
    "    for i in valid_classes:\n",
    "        print(f\"    {i}\")\n",
    "    print(\"Spells Chosen: \")\n",
    "    for i,x in zip(spells_per_level, range(len(spells_per_level))):\n",
    "        print(f\"    Level {str(x)} spells: {str(i)}\")  \n",
    "            \n",
    "def filtered_spell_list(valid_schools=school_list,\n",
    "                        valid_classes=class_list):\n",
    "    '''\n",
    "    Filters the raw spell list by the schools and classes you define\n",
    "    '''\n",
    "    # filter by schools(s) and class(es)\n",
    "    df = spell_df[spell_df['School'].isin(valid_schools)]\n",
    "    return df[(df[valid_classes] == 1).any(axis=1)]\n",
    "\n",
    "def spellbook_generator(df, levels = None):\n",
    "    if levels is None:\n",
    "        levels = [0,0,0,0,0,0,0,0,0,0]\n",
    "    new_df = pd.DataFrame()\n",
    "    level_list=[0,1,2,3,4,5,6,7,8,9]\n",
    "    for i,x in zip(levels,level_list):\n",
    "        temp_df = df[df[\"Spell Level\"] == x]\n",
    "        if i > temp_df.shape[0]: \n",
    "            sample_df = temp_df\n",
    "        else: sample_df =  temp_df.sample(i,replace=False)\n",
    "        new_df = new_df.append(sample_df)\n",
    "    return new_df\n",
    "\n",
    "def total_constructor(valid_schools=school_list, valid_classes=class_list, spells_per_level = None):\n",
    "    \n",
    "    if spells_per_level is None:\n",
    "        spells_per_level = [0,0,0,0,0,0,0,0,0,0]\n",
    "    spellbook_validator(valid_schools, valid_classes, spells_per_level)\n",
    "    levels = spell_list_length_validator(spells_per_level)\n",
    "    pool_of_spells = filtered_spell_list(valid_schools, valid_classes)\n",
    "    spellbook = spellbook_generator(pool_of_spells,levels)\n",
    "    spellbook.drop(class_list, axis=1, inplace=True)\n",
    "    return spellbook\n",
    "\n",
    "def spellbook_csv_export(df,csv_name):\n",
    "    df.to_csv(csv_name,index=False)\n",
    "    \n",
    "def spellbook_text_file(df,text_name):\n",
    "    #for each spell in the spell book, get text strings\n",
    "    spell_headings = list(df.columns)\n",
    "    df[\"text_list\"] = df[spell_headings].values.tolist()\n",
    "    spell_text_lists = df[\"text_list\"].tolist()\n",
    "\n",
    "    #spell_text_lists #lists of lists\n",
    "    formatted_list = []\n",
    "\n",
    "    # add headings\n",
    "    for spell in spell_text_lists:\n",
    "        formatted_spell = [f\"{str(h)}: {str(s)}\" for h,s in zip(spell_headings,spell)]\n",
    "        formatted_list.append(formatted_spell)\n",
    "\n",
    "    # write to file\n",
    "    with open(text_name,\"w\") as f:\n",
    "        for spell in formatted_list:\n",
    "            for line in spell:\n",
    "                f.write(line)\n",
    "                f.write(\"\\n\")\n",
    "            f.write(\"\\n\")\n",
    "            \n",
    "def build_everything(name, valid_schools=school_list, valid_classes=class_list, spells_per_level = None):\n",
    "    if spells_per_level is None:\n",
    "        spells_per_level = [0,0,0,0,0,0,0,0,0,0]\n",
    "    csv_path = f\"{name}.csv\"\n",
    "    txt_path = f\"{name}.txt\"\n",
    "    spellbook_df = total_constructor(valid_schools, valid_classes, spells_per_level)\n",
    "    spellbook_csv_export(spellbook_df,csv_path)\n",
    "    spellbook_text_file(spellbook_df,txt_path)"
   ]
  },
  {
   "cell_type": "code",
   "execution_count": 42,
   "id": "abcd872c",
   "metadata": {},
   "outputs": [],
   "source": [
    "# Data Cleanup\n",
    "# add columns for schools and classes for quick filtering\n",
    "spell_df = pd.concat([spell_df,pd.DataFrame(columns=class_list)])\n",
    "\n",
    "# Prepare the spell input data to have binary flags by class\n",
    "for value in class_list:\n",
    "    spell_df[value] = spell_df.apply(lambda x: class_mapper(value, x['Classes']), axis=1)\n",
    "\n",
    "# map spell level names to int    \n",
    "spell_level_dict = {\"Cantrip\":0,\n",
    "                   \"1st\":1,\n",
    "                   \"2nd\":2,\n",
    "                   \"3rd\":3,\n",
    "                   \"4th\":4,\n",
    "                   \"5th\":5,\n",
    "                   \"6th\":6,\n",
    "                   \"7th\":7,\n",
    "                   \"8th\":8,\n",
    "                   \"9th\":9}\n",
    "\n",
    "spell_df[\"Spell Level\"] = spell_df[\"Level\"].map(spell_level_dict)"
   ]
  },
  {
   "cell_type": "code",
   "execution_count": 43,
   "id": "3a3e6166",
   "metadata": {},
   "outputs": [
    {
     "name": "stdout",
     "output_type": "stream",
     "text": [
      "Schools chosen: \n",
      "    Necromancy\n",
      "    Abjuration\n",
      "Classes chosen: \n",
      "    Wizard\n",
      "    Druid\n",
      "Spells Chosen: \n",
      "    Level 0 spells: 4\n",
      "    Level 1 spells: 3\n",
      "    Level 2 spells: 3\n"
     ]
    }
   ],
   "source": [
    "new_spellbook = total_constructor([\"Necromancy\",\"Abjuration\"],[\"Wizard\",\"Druid\"],spells_per_level=[4,3,3])"
   ]
  },
  {
   "cell_type": "code",
   "execution_count": 231,
   "id": "e473a001",
   "metadata": {},
   "outputs": [],
   "source": [
    "spellbook_csv_export(new_spellbook,\"test_spellbook.csv\")"
   ]
  },
  {
   "cell_type": "code",
   "execution_count": 38,
   "id": "1bd16ce1",
   "metadata": {},
   "outputs": [],
   "source": [
    "spellbook_text_file(new_spellbook,\"another_book.txt\")"
   ]
  },
  {
   "cell_type": "code",
   "execution_count": 50,
   "id": "a44a759d",
   "metadata": {},
   "outputs": [
    {
     "name": "stdout",
     "output_type": "stream",
     "text": [
      "Schools chosen: \n",
      "    Conjuration\n",
      "Classes chosen: \n",
      "    Wizard\n",
      "Spells Chosen: \n",
      "    Level 0 spells: 1\n",
      "    Level 1 spells: 1\n",
      "    Level 2 spells: 1\n",
      "    Level 3 spells: 1\n",
      "    Level 4 spells: 1\n",
      "    Level 5 spells: 1\n",
      "    Level 6 spells: 1\n",
      "    Level 7 spells: 1\n",
      "    Level 8 spells: 1\n",
      "    Level 9 spells: 1\n"
     ]
    }
   ],
   "source": [
    "build_everything(\"booky\",['Conjuration'],['Wizard'],[1,1,1,1,1,1,1,1,1,1])"
   ]
  },
  {
   "cell_type": "code",
   "execution_count": null,
   "id": "5dbe46a1",
   "metadata": {},
   "outputs": [],
   "source": []
  }
 ],
 "metadata": {
  "interpreter": {
   "hash": "916dbcbb3f70747c44a77c7bcd40155683ae19c65e1c03b4aa3499c5328201f1"
  },
  "kernelspec": {
   "display_name": "Python 3.8.10 64-bit",
   "language": "python",
   "name": "python3"
  },
  "language_info": {
   "codemirror_mode": {
    "name": "ipython",
    "version": 3
   },
   "file_extension": ".py",
   "mimetype": "text/x-python",
   "name": "python",
   "nbconvert_exporter": "python",
   "pygments_lexer": "ipython3",
   "version": "3.8.10"
  }
 },
 "nbformat": 4,
 "nbformat_minor": 5
}
